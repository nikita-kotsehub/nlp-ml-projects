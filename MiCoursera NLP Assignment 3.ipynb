{
 "cells": [
  {
   "cell_type": "markdown",
   "metadata": {},
   "source": [
    "---\n",
    "\n",
    "_You are currently looking at **version 1.1** of this notebook. To download notebooks and datafiles, as well as get help on Jupyter notebooks in the Coursera platform, visit the [Jupyter Notebook FAQ](https://www.coursera.org/learn/python-text-mining/resources/d9pwm) course resource._\n",
    "\n",
    "---"
   ]
  },
  {
   "cell_type": "markdown",
   "metadata": {},
   "source": [
    "# Assignment 3\n",
    "\n",
    "In this assignment you will explore text message data and create models to predict if a message is spam or not. "
   ]
  },
  {
   "cell_type": "code",
   "execution_count": 371,
   "metadata": {},
   "outputs": [
    {
     "data": {
      "text/html": [
       "<div>\n",
       "<style>\n",
       "    .dataframe thead tr:only-child th {\n",
       "        text-align: right;\n",
       "    }\n",
       "\n",
       "    .dataframe thead th {\n",
       "        text-align: left;\n",
       "    }\n",
       "\n",
       "    .dataframe tbody tr th {\n",
       "        vertical-align: top;\n",
       "    }\n",
       "</style>\n",
       "<table border=\"1\" class=\"dataframe\">\n",
       "  <thead>\n",
       "    <tr style=\"text-align: right;\">\n",
       "      <th></th>\n",
       "      <th>text</th>\n",
       "      <th>target</th>\n",
       "    </tr>\n",
       "  </thead>\n",
       "  <tbody>\n",
       "    <tr>\n",
       "      <th>0</th>\n",
       "      <td>Go until jurong point, crazy.. Available only ...</td>\n",
       "      <td>0</td>\n",
       "    </tr>\n",
       "    <tr>\n",
       "      <th>1</th>\n",
       "      <td>Ok lar... Joking wif u oni...</td>\n",
       "      <td>0</td>\n",
       "    </tr>\n",
       "    <tr>\n",
       "      <th>2</th>\n",
       "      <td>Free entry in 2 a wkly comp to win FA Cup fina...</td>\n",
       "      <td>1</td>\n",
       "    </tr>\n",
       "    <tr>\n",
       "      <th>3</th>\n",
       "      <td>U dun say so early hor... U c already then say...</td>\n",
       "      <td>0</td>\n",
       "    </tr>\n",
       "    <tr>\n",
       "      <th>4</th>\n",
       "      <td>Nah I don't think he goes to usf, he lives aro...</td>\n",
       "      <td>0</td>\n",
       "    </tr>\n",
       "    <tr>\n",
       "      <th>5</th>\n",
       "      <td>FreeMsg Hey there darling it's been 3 week's n...</td>\n",
       "      <td>1</td>\n",
       "    </tr>\n",
       "    <tr>\n",
       "      <th>6</th>\n",
       "      <td>Even my brother is not like to speak with me. ...</td>\n",
       "      <td>0</td>\n",
       "    </tr>\n",
       "    <tr>\n",
       "      <th>7</th>\n",
       "      <td>As per your request 'Melle Melle (Oru Minnamin...</td>\n",
       "      <td>0</td>\n",
       "    </tr>\n",
       "    <tr>\n",
       "      <th>8</th>\n",
       "      <td>WINNER!! As a valued network customer you have...</td>\n",
       "      <td>1</td>\n",
       "    </tr>\n",
       "    <tr>\n",
       "      <th>9</th>\n",
       "      <td>Had your mobile 11 months or more? U R entitle...</td>\n",
       "      <td>1</td>\n",
       "    </tr>\n",
       "  </tbody>\n",
       "</table>\n",
       "</div>"
      ],
      "text/plain": [
       "                                                text  target\n",
       "0  Go until jurong point, crazy.. Available only ...       0\n",
       "1                      Ok lar... Joking wif u oni...       0\n",
       "2  Free entry in 2 a wkly comp to win FA Cup fina...       1\n",
       "3  U dun say so early hor... U c already then say...       0\n",
       "4  Nah I don't think he goes to usf, he lives aro...       0\n",
       "5  FreeMsg Hey there darling it's been 3 week's n...       1\n",
       "6  Even my brother is not like to speak with me. ...       0\n",
       "7  As per your request 'Melle Melle (Oru Minnamin...       0\n",
       "8  WINNER!! As a valued network customer you have...       1\n",
       "9  Had your mobile 11 months or more? U R entitle...       1"
      ]
     },
     "execution_count": 371,
     "metadata": {},
     "output_type": "execute_result"
    }
   ],
   "source": [
    "import pandas as pd\n",
    "import numpy as np\n",
    "\n",
    "spam_data = pd.read_csv('spam.csv')\n",
    "\n",
    "spam_data['target'] = np.where(spam_data['target']=='spam',1,0)\n",
    "spam_data.head(10)"
   ]
  },
  {
   "cell_type": "code",
   "execution_count": 372,
   "metadata": {
    "collapsed": true
   },
   "outputs": [],
   "source": [
    "from sklearn.model_selection import train_test_split\n",
    "\n",
    "\n",
    "X_train, X_test, y_train, y_test = train_test_split(spam_data['text'], \n",
    "                                                    spam_data['target'], \n",
    "                                                    random_state=0)"
   ]
  },
  {
   "cell_type": "markdown",
   "metadata": {},
   "source": [
    "### Question 1\n",
    "What percentage of the documents in `spam_data` are spam?\n",
    "\n",
    "*This function should return a float, the percent value (i.e. $ratio * 100$).*"
   ]
  },
  {
   "cell_type": "code",
   "execution_count": 173,
   "metadata": {
    "collapsed": true
   },
   "outputs": [],
   "source": [
    "def answer_one():\n",
    "    \n",
    "    \n",
    "    return (sum(spam_data['target'])/len(spam_data['target']))*100"
   ]
  },
  {
   "cell_type": "code",
   "execution_count": 174,
   "metadata": {
    "collapsed": true
   },
   "outputs": [],
   "source": [
    "#answer_one()"
   ]
  },
  {
   "cell_type": "markdown",
   "metadata": {},
   "source": [
    "### Question 2\n",
    "\n",
    "Fit the training data `X_train` using a Count Vectorizer with default parameters.\n",
    "\n",
    "What is the longest token in the vocabulary?\n",
    "\n",
    "*This function should return a string.*"
   ]
  },
  {
   "cell_type": "code",
   "execution_count": 175,
   "metadata": {
    "collapsed": true
   },
   "outputs": [],
   "source": [
    "from sklearn.feature_extraction.text import CountVectorizer\n",
    "\n",
    "def answer_two():\n",
    "    vector = CountVectorizer().fit(X_train)\n",
    "    features = vector.get_feature_names()\n",
    "    longest = ''\n",
    "    for word in features:\n",
    "        if len(word) > len(longest):\n",
    "            longest = word\n",
    "    return longest"
   ]
  },
  {
   "cell_type": "code",
   "execution_count": 176,
   "metadata": {
    "collapsed": true
   },
   "outputs": [],
   "source": [
    "#answer_two()"
   ]
  },
  {
   "cell_type": "markdown",
   "metadata": {},
   "source": [
    "### Question 3\n",
    "\n",
    "Fit and transform the training data `X_train` using a Count Vectorizer with default parameters.\n",
    "\n",
    "Next, fit a fit a multinomial Naive Bayes classifier model with smoothing `alpha=0.1`. Find the area under the curve (AUC) score using the transformed test data.\n",
    "\n",
    "*This function should return the AUC score as a float.*"
   ]
  },
  {
   "cell_type": "code",
   "execution_count": 177,
   "metadata": {
    "collapsed": true
   },
   "outputs": [],
   "source": [
    "from sklearn.naive_bayes import MultinomialNB\n",
    "from sklearn.metrics import roc_auc_score\n",
    "\n",
    "def answer_three():\n",
    "    vector = CountVectorizer().fit(X_train)\n",
    "    X_train_vectorized = vector.transform(X_train)\n",
    "    \n",
    "    md = MultinomialNB(alpha=0.1).fit(X_train_vectorized, y_train)\n",
    "    \n",
    "    X_test_vectorized = vector.transform(X_test)\n",
    "    prediction = md.predict(X_test_vectorized)\n",
    "    \n",
    "    return roc_auc_score(y_test, prediction)"
   ]
  },
  {
   "cell_type": "code",
   "execution_count": 178,
   "metadata": {
    "collapsed": true,
    "scrolled": true
   },
   "outputs": [],
   "source": [
    "#answer_three()"
   ]
  },
  {
   "cell_type": "code",
   "execution_count": 179,
   "metadata": {
    "collapsed": true
   },
   "outputs": [],
   "source": [
    "#features[sorted_coefs_indexes][:10]"
   ]
  },
  {
   "cell_type": "code",
   "execution_count": 180,
   "metadata": {
    "collapsed": true
   },
   "outputs": [],
   "source": [
    "#features[sorted_coefs_indexes][:-11:-1]"
   ]
  },
  {
   "cell_type": "markdown",
   "metadata": {},
   "source": [
    "### Question 4\n",
    "\n",
    "Fit and transform the training data `X_train` using a Tfidf Vectorizer with default parameters.\n",
    "\n",
    "What 20 features have the smallest tf-idf and what 20 have the largest tf-idf?\n",
    "\n",
    "Put these features in a two series where each series is sorted by tf-idf value and then alphabetically by feature name. The index of the series should be the feature name, and the data should be the tf-idf.\n",
    "\n",
    "The series of 20 features with smallest tf-idfs should be sorted smallest tfidf first, the list of 20 features with largest tf-idfs should be sorted largest first. \n",
    "\n",
    "*This function should return a tuple of two series\n",
    "`(smallest tf-idfs series, largest tf-idfs series)`.*"
   ]
  },
  {
   "cell_type": "code",
   "execution_count": 181,
   "metadata": {
    "collapsed": true
   },
   "outputs": [],
   "source": [
    "from sklearn.feature_extraction.text import TfidfVectorizer\n",
    "\n",
    "def answer_four():\n",
    "    vect = TfidfVectorizer().fit(X_train)\n",
    "    X_train_transformed = vect.transform(X_train)\n",
    "    \n",
    "    tfidf_scores = pd.DataFrame(X_train_transformed.max(0).T.todense(), index=vect.get_feature_names())\n",
    "    \n",
    "    top20 = tfidf_scores[0].sort_values(ascending=False)[:20]\n",
    "    bottom20 = tfidf_scores[0].sort_values(ascending=False)[:-21:-1]\n",
    "    \n",
    "    # reset the index, sort by TFIDF (descending) and index (ascending), and put the index back in place\n",
    "    top20 = top20.reset_index().sort_values([0, 'index'], ascending=[False, True]).set_index('index')\n",
    "    # reset the index, sort by TFIDF (ascending) and index (ascending), and put the index back in place\n",
    "    bottom20 = bottom20.reset_index().sort_values([0, 'index'], ascending=[True, True]).set_index('index')\n",
    "    \n",
    "    top20 = pd.Series(top20[0])\n",
    "    bottom20 = pd.Series(bottom20[0])\n",
    "    \n",
    "    # remove the index name and Series name for the autograder requirements\n",
    "    top20.index.name = None\n",
    "    top20.name=None\n",
    "    \n",
    "    bottom20.index.name = None\n",
    "    bottom20.name= None\n",
    "    return (bottom20, top20)"
   ]
  },
  {
   "cell_type": "code",
   "execution_count": 301,
   "metadata": {},
   "outputs": [],
   "source": [
    "#answer_four()"
   ]
  },
  {
   "cell_type": "markdown",
   "metadata": {},
   "source": [
    "### Question 5\n",
    "\n",
    "Fit and transform the training data `X_train` using a Tfidf Vectorizer ignoring terms that have a document frequency strictly lower than **3**.\n",
    "\n",
    "Then fit a multinomial Naive Bayes classifier model with smoothing `alpha=0.1` and compute the area under the curve (AUC) score using the transformed test data.\n",
    "\n",
    "*This function should return the AUC score as a float.*"
   ]
  },
  {
   "cell_type": "code",
   "execution_count": 324,
   "metadata": {
    "collapsed": true
   },
   "outputs": [],
   "source": [
    "def answer_five():\n",
    "    \n",
    "    vect = TfidfVectorizer(min_df=3).fit(X_train)\n",
    "    X_train_transformed = vect.transform(X_train)\n",
    "\n",
    "    from sklearn.naive_bayes import MultinomialNB\n",
    "\n",
    "    md = MultinomialNB(alpha=0.1).fit(X_train_transformed, y_train)\n",
    "\n",
    "    prediction = md.predict_proba(vect.transform(X_test))[:, 1]\n",
    "\n",
    "    from sklearn.metrics import roc_auc_score\n",
    "   \n",
    "    return roc_auc_score(y_test, prediction)"
   ]
  },
  {
   "cell_type": "code",
   "execution_count": 316,
   "metadata": {},
   "outputs": [],
   "source": [
    "#answer_five()"
   ]
  },
  {
   "cell_type": "markdown",
   "metadata": {},
   "source": [
    "### Question 6\n",
    "\n",
    "What is the average length of documents (number of characters) for not spam and spam documents?\n",
    "\n",
    "*This function should return a tuple (average length not spam, average length spam).*"
   ]
  },
  {
   "cell_type": "code",
   "execution_count": 185,
   "metadata": {
    "collapsed": true
   },
   "outputs": [],
   "source": [
    "def answer_six():\n",
    "    not_spam_len = spam_data[spam_data['target'] == 0]['text'].agg(len)\n",
    "    not_spam_avg = not_spam_len.mean()\n",
    "\n",
    "    spam_len = spam_data[spam_data['target'] == 1]['text'].agg(len)\n",
    "    spam_avg = spam_len.mean()\n",
    "    \n",
    "    return (not_spam_avg, spam_avg)"
   ]
  },
  {
   "cell_type": "code",
   "execution_count": 299,
   "metadata": {},
   "outputs": [],
   "source": [
    "#answer_six()"
   ]
  },
  {
   "cell_type": "markdown",
   "metadata": {},
   "source": [
    "<br>\n",
    "<br>\n",
    "The following function has been provided to help you combine new features into the training data:"
   ]
  },
  {
   "cell_type": "code",
   "execution_count": 187,
   "metadata": {
    "collapsed": true
   },
   "outputs": [],
   "source": [
    "def add_feature(X, feature_to_add):\n",
    "    \"\"\"\n",
    "    Returns sparse feature matrix with added feature.\n",
    "    feature_to_add can also be a list of features.\n",
    "    \"\"\"\n",
    "    from scipy.sparse import csr_matrix, hstack\n",
    "    return hstack([X, csr_matrix(feature_to_add).T], 'csr')"
   ]
  },
  {
   "cell_type": "markdown",
   "metadata": {},
   "source": [
    "### Question 7\n",
    "\n",
    "Fit and transform the training data X_train using a Tfidf Vectorizer ignoring terms that have a document frequency strictly lower than **5**.\n",
    "\n",
    "Using this document-term matrix and an additional feature, **the length of document (number of characters)**, fit a Support Vector Classification model with regularization `C=10000`. Then compute the area under the curve (AUC) score using the transformed test data.\n",
    "\n",
    "*This function should return the AUC score as a float.*"
   ]
  },
  {
   "cell_type": "code",
   "execution_count": 188,
   "metadata": {
    "collapsed": true
   },
   "outputs": [],
   "source": [
    "from sklearn.svm import SVC\n",
    "\n",
    "def answer_seven():\n",
    "    \n",
    "    vect = TfidfVectorizer(min_df=5).fit(X_train)\n",
    "    X_train_transformed = vect.transform(X_train)\n",
    "\n",
    "    added_train = add_feature(X_train_transformed, X_train.agg(len))\n",
    "\n",
    "    md = SVC(C=10000).fit(added_train, y_train)\n",
    "\n",
    "    X_test_transformed = vect.transform(X_test)\n",
    "    added_test = add_feature(X_test_transformed, X_test.agg(len))\n",
    "\n",
    "    prediction = md.predict(added_test)\n",
    "\n",
    "    \n",
    "    return roc_auc_score(y_test, prediction)"
   ]
  },
  {
   "cell_type": "code",
   "execution_count": 298,
   "metadata": {},
   "outputs": [],
   "source": [
    "#answer_seven()"
   ]
  },
  {
   "cell_type": "markdown",
   "metadata": {},
   "source": [
    "### Question 8\n",
    "\n",
    "What is the average number of digits per document for not spam and spam documents?\n",
    "\n",
    "*This function should return a tuple (average # digits not spam, average # digits spam).*"
   ]
  },
  {
   "cell_type": "code",
   "execution_count": 213,
   "metadata": {
    "collapsed": true
   },
   "outputs": [],
   "source": [
    "def answer_eight():\n",
    "    \n",
    "    not_spam = spam_data[spam_data['target'] == 0]['text']\n",
    "    spam = spam_data[spam_data['target'] == 1]['text']\n",
    "    \n",
    "    not_spam_avg = not_spam.str.findall(r'\\d').agg(len).mean()\n",
    "    spam_avg = spam.str.findall(r'\\d').agg(len).mean()\n",
    "    \n",
    "    return(not_spam_avg, spam_avg)"
   ]
  },
  {
   "cell_type": "code",
   "execution_count": 297,
   "metadata": {},
   "outputs": [],
   "source": [
    "#answer_eight()"
   ]
  },
  {
   "cell_type": "markdown",
   "metadata": {},
   "source": [
    "### Question 9\n",
    "\n",
    "Fit and transform the training data `X_train` using a Tfidf Vectorizer ignoring terms that have a document frequency strictly lower than **5** and using **word n-grams from n=1 to n=3** (unigrams, bigrams, and trigrams).\n",
    "\n",
    "Using this document-term matrix and the following additional features:\n",
    "* the length of document (number of characters)\n",
    "* **number of digits per document**\n",
    "\n",
    "fit a Logistic Regression model with regularization `C=100`. Then compute the area under the curve (AUC) score using the transformed test data.\n",
    "\n",
    "*This function should return the AUC score as a float.*"
   ]
  },
  {
   "cell_type": "code",
   "execution_count": 378,
   "metadata": {
    "collapsed": true
   },
   "outputs": [],
   "source": [
    "from sklearn.linear_model import LogisticRegression\n",
    "\n",
    "def answer_nine():\n",
    "    # Tfidf Vectorizer ignoring terms that have a document frequency strictly lower than 5 and using word n-grams from n=1 to n=3\n",
    "    vect= TfidfVectorizer(min_df=5, ngram_range=(1,3)).fit(X_train)\n",
    "    # Transform X_train\n",
    "    X_train_trans = vect.transform(X_train)\n",
    "    # Add feature #1: the length of document (number of characters)\n",
    "    temp1 = add_feature(X_train_trans, X_train.agg(len))\n",
    "    # Add feature #2: number of digits per document\n",
    "    X_train_features = add_feature(temp1, X_train.agg(lambda x: x.str.findall(r'\\d').agg(len)))\n",
    "    \n",
    "    # Train the model\n",
    "    md = LogisticRegression(C=100).fit(X_train_features, y_train)\n",
    "\n",
    "    # Transform the Test data using the same methods\n",
    "    X_test_trans = vect.transform(X_test)\n",
    "    temp2 = add_feature(X_test_trans, X_test.agg(len))\n",
    "    X_test_features = add_feature(temp2, X_test.agg(lambda x: x.str.findall(r'\\d').agg(len)))\n",
    "\n",
    "    # predict\n",
    "    prediction = md.predict(X_test_features)\n",
    "    \n",
    "    return roc_auc_score(y_test, prediction)"
   ]
  },
  {
   "cell_type": "code",
   "execution_count": 382,
   "metadata": {},
   "outputs": [
    {
     "data": {
      "text/plain": [
       "(4179, 16387)"
      ]
     },
     "execution_count": 382,
     "metadata": {},
     "output_type": "execute_result"
    }
   ],
   "source": [
    "X_train_features.shape"
   ]
  },
  {
   "cell_type": "code",
   "execution_count": 296,
   "metadata": {},
   "outputs": [],
   "source": [
    "#answer_nine()"
   ]
  },
  {
   "cell_type": "markdown",
   "metadata": {},
   "source": [
    "### Question 10\n",
    "\n",
    "What is the average number of non-word characters (anything other than a letter, digit or underscore) per document for not spam and spam documents?\n",
    "\n",
    "*Hint: Use `\\w` and `\\W` character classes*\n",
    "\n",
    "*This function should return a tuple (average # non-word characters not spam, average # non-word characters spam).*"
   ]
  },
  {
   "cell_type": "code",
   "execution_count": 244,
   "metadata": {
    "collapsed": true
   },
   "outputs": [],
   "source": [
    "def answer_ten():\n",
    "    not_spam = spam_data[spam_data['target'] == 0]['text']\n",
    "    spam = spam_data[spam_data['target'] == 1]['text']\n",
    "\n",
    "    not_spam_avg = not_spam.str.findall(r'\\W').agg(len).mean()\n",
    "    spam_avg = spam.str.findall(r'\\W').agg(len).mean()\n",
    "    \n",
    "    return (not_spam_avg, spam_avg)"
   ]
  },
  {
   "cell_type": "code",
   "execution_count": 295,
   "metadata": {},
   "outputs": [],
   "source": [
    "#answer_ten()"
   ]
  },
  {
   "cell_type": "markdown",
   "metadata": {},
   "source": [
    "### Question 11\n",
    "\n",
    "Fit and transform the training data X_train using a Count Vectorizer ignoring terms that have a document frequency strictly lower than **5** and using **character n-grams from n=2 to n=5.**\n",
    "\n",
    "To tell Count Vectorizer to use character n-grams pass in `analyzer='char_wb'` which creates character n-grams only from text inside word boundaries. This should make the model more robust to spelling mistakes.\n",
    "\n",
    "Using this document-term matrix and the following additional features:\n",
    "* the length of document (number of characters)\n",
    "* number of digits per document\n",
    "* **number of non-word characters (anything other than a letter, digit or underscore.)**\n",
    "\n",
    "fit a Logistic Regression model with regularization C=100. Then compute the area under the curve (AUC) score using the transformed test data.\n",
    "\n",
    "Also **find the 10 smallest and 10 largest coefficients from the model** and return them along with the AUC score in a tuple.\n",
    "\n",
    "The list of 10 smallest coefficients should be sorted smallest first, the list of 10 largest coefficients should be sorted largest first.\n",
    "\n",
    "The three features that were added to the document term matrix should have the following names should they appear in the list of coefficients:\n",
    "['length_of_doc', 'digit_count', 'non_word_char_count']\n",
    "\n",
    "*This function should return a tuple `(AUC score as a float, smallest coefs list, largest coefs list)`.*"
   ]
  },
  {
   "cell_type": "code",
   "execution_count": 373,
   "metadata": {
    "collapsed": true
   },
   "outputs": [],
   "source": [
    "def answer_eleven():\n",
    "    # Tfidf Vectorizer ignoring terms that have a document frequency strictly lower than 5 and using word n-grams from n=1 to n=3\n",
    "    vect= CountVectorizer(min_df=5, ngram_range=(1,5), analyzer='char_wb').fit(X_train)\n",
    "    # Transform X_train\n",
    "    X_train_trans = vect.transform(X_train)\n",
    "    # Add feature #1: the length of document (number of characters)\n",
    "    temp1 = add_feature(X_train_trans, X_train.agg(len))\n",
    "    # Add feature #2: number of digits per document\n",
    "    temp2 = add_feature(temp1, X_train.agg(lambda x: x.str.findall(r'\\d').agg(len)))\n",
    "    # Add feature #3: number of non-word characters (anything other than a letter, digit or underscore.)\n",
    "    X_train_features = add_feature(temp2, X_train.agg(lambda x: x.str.findall(r'\\W').agg(len)))\n",
    "\n",
    "    X_test_trans = vect.transform(X_test)\n",
    "    # Add feature #1: the length of document (number of characters)\n",
    "    temp3 = add_feature(X_test_trans, X_test.agg(len))\n",
    "    # Add feature #2: number of digits per document\n",
    "    temp4 = add_feature(temp3, X_test.agg(lambda x: x.str.findall(r'\\d').agg(len)))\n",
    "    # Add feature #3: number of non-word characters (anything other than a letter, digit or underscore.)\n",
    "    X_test_features = add_feature(temp4, X_test.agg(lambda x: x.str.findall(r'\\W').agg(len)))\n",
    "\n",
    "    # Train the model\n",
    "    md = LogisticRegression(C=100).fit(X_train_features, y_train)\n",
    "\n",
    "    # predict probabilities. Column 0 is the probability that it's class 0; Column 1 - class 1 (spam)\n",
    "    prediction = md.predict_proba(X_test_features)[:, 1]\n",
    "    # auc_score \n",
    "    auc_score = roc_auc_score(y_test, prediction)\n",
    "    \n",
    "    # Get coefficients\n",
    "    sorted_coefs = md.coef_[0]\n",
    "\n",
    "    # get the features + add newly added features\n",
    "    features = np.array(vect.get_feature_names() + ['length_of_doc', 'digit_count', 'non_word_char_count'])\n",
    "\n",
    "    # put things in a dataframe\n",
    "    feature_df = pd.DataFrame([features, sorted_coefs]).T\n",
    "\n",
    "    # sort the df by coefficients\n",
    "    sorted_df = feature_df.sort_values(1, ascending=False)\n",
    "\n",
    "    # get top and bottom 10 coefficient names\n",
    "    top10 = sorted_df[:10][0]\n",
    "    bottom10 = sorted_df[:-11:-1][0]\n",
    "    \n",
    "    # remove Series name\n",
    "    top10.name = None\n",
    "    bottom10.name = None\n",
    "\n",
    "    # remove indexes names\n",
    "    top10.index.name = None\n",
    "    bottom10.index.name = None\n",
    "    \n",
    "    return (auc_score, bottom10, top10)"
   ]
  },
  {
   "cell_type": "code",
   "execution_count": 374,
   "metadata": {
    "scrolled": true
   },
   "outputs": [
    {
     "data": {
      "text/plain": [
       "(0.99539497139364719, 3232      .\n",
       " 3109      )\n",
       " 8393      h\n",
       " 1144     go\n",
       " 4550      ?\n",
       " 3242     ..\n",
       " 4528      ;\n",
       " 0          \n",
       " 3156      ,\n",
       " 4498     :)\n",
       " dtype: object, 16385            digit_count\n",
       " 3519                       0\n",
       " 15938                      x\n",
       " 10959                     ne\n",
       " 16386    non_word_char_count\n",
       " 289                       a \n",
       " 659                       ch\n",
       " 5193                      ar\n",
       " 8847                      ia\n",
       " 3464                       /\n",
       " dtype: object)"
      ]
     },
     "execution_count": 374,
     "metadata": {},
     "output_type": "execute_result"
    }
   ],
   "source": [
    "answer_eleven()"
   ]
  },
  {
   "cell_type": "code",
   "execution_count": 375,
   "metadata": {},
   "outputs": [
    {
     "data": {
      "text/plain": [
       "0.98682792047943224"
      ]
     },
     "execution_count": 375,
     "metadata": {},
     "output_type": "execute_result"
    }
   ],
   "source": [
    "# It is funny that you can use just these 3 features and get roc_auc of 0.98, with no need for any words as features\n",
    "spam_data['word_count'] = spam_data['text'].agg(len)\n",
    "\n",
    "spam_data['digits'] = spam_data['text'].agg(lambda x: x.str.findall(r'\\d').agg(len))\n",
    "\n",
    "spam_data['white_space'] = spam_data['text'].agg(lambda x: x.str.findall(r'\\W').agg(len))\n",
    "\n",
    "X_train1, X_test1, y_train1, y_test1 = train_test_split(spam_data[['word_count', 'digits', 'white_space']], \n",
    "                                                    spam_data['target'], \n",
    "                                                    random_state=0)\n",
    "\n",
    "from sklearn.linear_model import LogisticRegression\n",
    "\n",
    "lrr = LogisticRegression(C=100).fit(X_train1, y_train1)\n",
    "\n",
    "prediction = lrr.predict_proba(X_test1)[:, 1]\n",
    "roc_auc_score(y_test, prediction)"
   ]
  },
  {
   "cell_type": "code",
   "execution_count": 362,
   "metadata": {
    "scrolled": false
   },
   "outputs": [
    {
     "data": {
      "text/plain": [
       "array([[ 0.90228864,  0.09771136]])"
      ]
     },
     "execution_count": 362,
     "metadata": {},
     "output_type": "execute_result"
    }
   ],
   "source": [
    "md.predict_proba([[221, 0, 46]])"
   ]
  },
  {
   "cell_type": "code",
   "execution_count": 377,
   "metadata": {},
   "outputs": [
    {
     "data": {
      "text/plain": [
       "(5572, 5)"
      ]
     },
     "execution_count": 377,
     "metadata": {},
     "output_type": "execute_result"
    }
   ],
   "source": [
    "spam_data.shape"
   ]
  }
 ],
 "metadata": {
  "coursera": {
   "course_slug": "python-text-mining",
   "graded_item_id": "Pn19K",
   "launcher_item_id": "y1juS",
   "part_id": "ctlgo"
  },
  "kernelspec": {
   "display_name": "Python 3",
   "language": "python",
   "name": "python3"
  },
  "language_info": {
   "codemirror_mode": {
    "name": "ipython",
    "version": 3
   },
   "file_extension": ".py",
   "mimetype": "text/x-python",
   "name": "python",
   "nbconvert_exporter": "python",
   "pygments_lexer": "ipython3",
   "version": "3.7.3"
  }
 },
 "nbformat": 4,
 "nbformat_minor": 2
}
